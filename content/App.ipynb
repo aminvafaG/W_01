{
 "cells": [
  {
   "cell_type": "markdown",
   "metadata": {},
   "source": [
    "# Orientation Tuning Dashboard\n",
    "Interactive filters + **overlay of all units that pass the filter**.\n",
    "\n",
    "- Use the controls to select layers, OSI range, and selectivity range.\n",
    "- The tuning plot overlays all passing units as thin lines; the mean (±SEM) is shown if enabled.\n",
    "- Optionally highlight a focus unit.\n"
   ]
  },
  {
   "cell_type": "code",
   "execution_count": null,
   "metadata": {
    "tags": [
     "remove-input"
    ]
   },
   "outputs": [],
   "source": "import numpy as np\nimport pandas as pd\nimport ipywidgets as W\nimport matplotlib.pyplot as plt\n\n# --- Load data relative to notebook location ---\nmeta = pd.read_csv(\"data/meta.csv\")\nnpz = np.load(\"data/tuning_curves.npz\")\nangles = npz[\"angles\"]              # shape (A,)\ncurves = npz[\"curves\"]              # shape (N, A)\nN, A = curves.shape\nassert len(meta) == N, \"meta rows must match number of units in curves\"\n\n# Widgets\nlayers_widget = W.SelectMultiple(\n    options=sorted(meta[\"layer\"].unique().tolist()),\n    value=tuple(sorted(meta[\"layer\"].unique().tolist())),\n    description=\"Layers\",\n    rows=3,\n    layout=W.Layout(width=\"200px\"),\n)\n\nosi_widget  = W.FloatRangeSlider(\n    value=(0.0, 1.0), min=0.0, max=1.0, step=0.01,\n    description=\"OSI\", readout_format=\".2f\",\n    layout=W.Layout(width=\"380px\")\n)\n\nsel_widget  = W.FloatRangeSlider(\n    value=(0.0, 1.0), min=0.0, max=1.0, step=0.01,\n    description=\"Select.\", readout_format=\".2f\",\n    layout=W.Layout(width=\"380px\")\n)\n\noverlay_widget = W.Checkbox(value=True, description=\"Overlay all filtered units\")\nshow_mean_widget = W.Checkbox(value=True, description=\"Show mean ± SEM\")\nnormalize_widget = W.Dropdown(\n    options=[(\"Raw\",\"raw\"), (\"Z-score per unit\",\"zscore\"), (\"Peak normalize (max=1)\",\"peak\")],\n    value=\"raw\", description=\"Normalize\"\n)\n\n# Focus unit dropdown (by unit_id as in meta)\nfocus_widget = W.Dropdown(\n    options=[(f\"Unit {uid}\", uid) for uid in meta[\"unit_id\"].tolist()],\n    value=meta[\"unit_id\"].iloc[0],\n    description=\"Focus unit\"\n)\n\n# Status readout\nstatus = W.HTML()\n"
  },
  {
   "cell_type": "code",
   "execution_count": null,
   "metadata": {
    "tags": [
     "remove-input"
    ]
   },
   "outputs": [],
   "source": "def _normalize(y, mode):\n    y = np.asarray(y, float)\n    if mode == \"raw\":\n        return y\n    if mode == \"zscore\":\n        m, s = np.nanmean(y), np.nanstd(y)\n        return (y - m) / (s + 1e-12)\n    if mode == \"peak\":\n        m = np.nanmax(np.abs(y))\n        return y / (m + 1e-12)\n    return y\n\ndef get_filtered_indices(layers, osi_rng, sel_rng):\n    if not layers:\n        return np.array([], dtype=int)\n    mask = (\n        meta[\"layer\"].isin(layers)\n        & (meta[\"OSI\"] >= osi_rng[0]) & (meta[\"OSI\"] <= osi_rng[1])\n        & (meta[\"selectivity\"] >= sel_rng[0]) & (meta[\"selectivity\"] <= sel_rng[1])\n    )\n    return np.flatnonzero(mask.values)\n\ndef plot_tuning(layers, osi_rng, sel_rng, overlay_all, show_mean, normalize, focus_uid):\n    idx = get_filtered_indices(layers, osi_rng, sel_rng)\n\n    # Prepare figure\n    fig = plt.figure(figsize=(7.5, 4.5), dpi=140)\n    ax  = plt.gca()\n\n    if idx.size == 0:\n        ax.text(0.5, 0.5, \"No units match the filter\", ha=\"center\", va=\"center\", transform=ax.transAxes)\n        ax.set_axis_off()\n        status.value = f\"<b>Matched units:</b> 0\"\n        plt.show()\n        return\n\n    # Overlay\n    if overlay_all:\n        for ii in idx:\n            y = _normalize(curves[ii, :], normalize)\n            ax.plot(angles, y, lw=0.8, alpha=0.25)\n\n    # Focus unit (if it's in data)\n    if focus_uid in meta[\"unit_id\"].values:\n        # meta index is unit_id-1 if unit_id is 1..N; fall back to locating by row\n        row = meta.index[meta[\"unit_id\"] == focus_uid][0]\n        y = _normalize(curves[row, :], normalize)\n        ax.plot(angles, y, lw=2.2)  # thicker line for focus\n\n    # Mean ± SEM\n    if show_mean and idx.size >= 2:\n        Y = np.vstack([_normalize(curves[ii, :], normalize) for ii in idx])\n        m = np.nanmean(Y, axis=0)\n        s = np.nanstd(Y, axis=0, ddof=1) / np.sqrt(Y.shape[0])\n        ax.plot(angles, m, lw=2.5)\n        ax.fill_between(angles, m - s, m + s, alpha=0.15)\n\n    ax.set_xlabel(\"Orientation (deg)\")\n    ax.set_ylabel(\"Response (a.u.)\" if normalize == \"raw\" else f\"Response ({normalize})\")\n    ax.set_title(\"Orientation tuning (filtered overlay)\")\n    ax.grid(True, alpha=0.25)\n    status.value = f\"<b>Matched units:</b> {idx.size} | Layers: {', '.join(layers)} | OSI: {osi_rng[0]:.2f}–{osi_rng[1]:.2f} | Select.: {sel_rng[0]:.2f}–{sel_rng[1]:.2f}\"\n    plt.tight_layout()\n    plt.show()\n\n# Link controls -> plot\nout = W.interactive_output(\n    plot_tuning,\n    {\n        \"layers\": layers_widget,\n        \"osi_rng\": osi_widget,\n        \"sel_rng\": sel_widget,\n        \"overlay_all\": overlay_widget,\n        \"show_mean\": show_mean_widget,\n        \"normalize\": normalize_widget,\n        \"focus_uid\": focus_widget,\n    },\n)\n\ncontrols_left = W.VBox([layers_widget, overlay_widget, show_mean_widget, normalize_widget])\ncontrols_right = W.VBox([osi_widget, sel_widget, focus_widget])\n\nui = W.HBox([controls_left, W.Box([controls_right], layout=W.Layout(margin=\"0 0 0 20px\"))])\ndisplay(ui, status, out)\n"
  }
 ],
 "metadata": {
  "kernelspec": {
   "display_name": "Python",
   "language": "python",
   "name": "python"
  },
  "language_info": {
   "name": "python",
   "pygments_lexer": "ipython3"
  }
 },
 "nbformat": 4,
 "nbformat_minor": 5
}