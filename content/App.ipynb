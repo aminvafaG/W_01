{
 "cells": [
  {
   "cell_type": "markdown",
   "metadata": {},
   "source": [
    "# Hello from JupyterLite + Voici\n",
    "This notebook is packaged to run **entirely in your browser**.\n",
    "\n",
    "Use the widget below to change the sine wave frequency. It works in **JupyterLab** and in **Voici**.\n"
   ]
  },
  {
   "cell_type": "code",
   "execution_count": null,
   "metadata": {
    "tags": []
   },
   "outputs": [],
   "source": [
    "import numpy as np\n",
    "import ipywidgets as W\n",
    "import matplotlib.pyplot as plt\n",
    "\n",
    "%matplotlib inline\n",
    "\n",
    "@W.interact(freq=(1, 12))\n",
    "def plot(freq=5):\n",
    "    x = np.linspace(0, 2*np.pi, 400)\n",
    "    y = np.sin(freq * x)\n",
    "    fig, ax = plt.subplots()\n",
    "    ax.plot(x, y)\n",
    "    ax.set_title(f\"Sine wave \u2014 freq={freq}\")\n",
    "    ax.set_xlabel(\"x\")\n",
    "    ax.set_ylabel(\"sin(freq*x)\")\n",
    "    plt.show()\n"
   ]
  }
 ],
 "metadata": {
  "kernelspec": {
   "display_name": "Python (xeus-python)",
   "language": "python",
   "name": "python"
  },
  "language_info": {
   "name": "python",
   "version": "3.11"
  }
 },
 "nbformat": 4,
 "nbformat_minor": 5
}