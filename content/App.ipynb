{
 "cells": [
  {
   "cell_type": "markdown",
   "metadata": {},
   "source": [
    "# Orientation Tuning — Overlay of Filtered Units\nUse the controls to filter units; **all matching units are overlaid**.\n"
   ]
  },
  {
   "cell_type": "code",
   "execution_count": null,
   "metadata": {
    "tags": [
     "remove-input"
    ]
   },
   "outputs": [],
   "source": "import numpy as np, pandas as pd\nimport ipywidgets as W\nimport matplotlib.pyplot as plt\nfrom IPython.display import display, clear_output\n\n# ---- Load data relative to this notebook (content/) ----\nmeta  = pd.read_csv(\"data/meta.csv\")                 # columns: unit_id, layer, OSI, selectivity\nnpz   = np.load(\"data/tuning_curves.npz\")            # arrays: angles (A,), curves (N,A)\nangles = npz[\"angles\"]\ncurves = npz[\"curves\"]\nN, A = curves.shape[0], curves.shape[1]\n\n# ---- Controls ----\nlayer_opts = tuple(sorted(meta[\"layer\"].unique().tolist()))\nlayers = W.SelectMultiple(options=layer_opts, value=layer_opts, description=\"Layers\", rows=3, layout=W.Layout(width=\"220px\"))\nosi    = W.FloatRangeSlider(value=(0.0, 1.0), min=0.0, max=1.0, step=0.01, description=\"OSI\", readout_format=\".2f\", layout=W.Layout(width=\"380px\"))\nsel    = W.FloatRangeSlider(value=(0.0, 1.0), min=0.0, max=1.0, step=0.01, description=\"Select.\", readout_format=\".2f\", layout=W.Layout(width=\"380px\"))\nnorm   = W.Dropdown(options=[(\"Raw\",\"raw\"), (\"Z-score per unit\",\"z\"), (\"Peak normalize (max=1)\",\"peak\")], value=\"raw\", description=\"Normalize\")\nfocus  = W.Dropdown(options=[(f\"Unit {u}\", u) for u in meta[\"unit_id\"].tolist()], value=meta[\"unit_id\"].iloc[0], description=\"Focus unit\")\nstatus = W.HTML()\nplot_out = W.Output(layout=W.Layout(border=\"1px solid #e5e5e5\", min_height=\"420px\", width=\"100%\"))\n\ndef _normalize(y, mode):\n    y = np.asarray(y, float)\n    if mode == \"raw\": return y\n    if mode == \"z\":\n        m, s = np.nanmean(y), np.nanstd(y)\n        return (y - m) / (s + 1e-12)\n    if mode == \"peak\":\n        m = np.nanmax(np.abs(y))\n        return y / (m + 1e-12)\n    return y\n\ndef filtered_idx():\n    m = (\n        meta[\"layer\"].isin(list(layers.value))\n        & (meta[\"OSI\"] >= osi.value[0]) & (meta[\"OSI\"] <= osi.value[1])\n        & (meta[\"selectivity\"] >= sel.value[0]) & (meta[\"selectivity\"] <= sel.value[1])\n    )\n    return np.flatnonzero(m.values)\n\ndef update_plot(*_):\n    idx = filtered_idx()\n    status.value = f\"<b>Matched units:</b> {idx.size} | Layers: {', '.join(layers.value)} | OSI: {osi.value[0]:.2f}–{osi.value[1]:.2f} | Select.: {sel.value[0]:.2f}–{sel.value[1]:.2f}\"\n    with plot_out:\n        clear_output(wait=True)\n        fig = plt.figure(figsize=(7.5, 4.2), dpi=140)\n        ax = plt.gca()\n        if idx.size == 0:\n            ax.text(0.5, 0.5, \"No units match the filter\", ha=\"center\", va=\"center\", transform=ax.transAxes)\n            ax.set_axis_off()\n            plt.show()\n            return\n        # --- Always overlay all filtered units ---\n        for ii in idx:\n            y = _normalize(curves[ii, :], norm.value)\n            ax.plot(angles, y, lw=1.0, alpha=0.30)\n        # --- Focus unit on top (thicker) ---\n        if focus.value in meta[\"unit_id\"].values:\n            row = meta.index[meta[\"unit_id\"] == focus.value][0]\n            y = _normalize(curves[row, :], norm.value)\n            ax.plot(angles, y, lw=2.6)\n        ax.set_xlabel(\"Orientation (deg)\")\n        ax.set_ylabel(\"Response (a.u.)\" if norm.value==\"raw\" else f\"Response ({norm.value})\")\n        ax.set_title(\"Orientation tuning (overlay of filtered units)\")\n        ax.grid(True, alpha=0.25)\n        plt.tight_layout()\n        plt.show()\n\n# Wire callbacks\nfor w in (layers, osi, sel, norm, focus):\n    w.observe(update_plot, names=\"value\")\n\n# Initial render\nupdate_plot()\n\ncontrols = W.HBox([W.VBox([layers, norm]), W.VBox([osi, sel, focus])])\ndisplay(controls, status, plot_out)\n"
  }
 ],
 "metadata": {
  "kernelspec": {
   "display_name": "Python",
   "language": "python",
   "name": "python"
  },
  "language_info": {
   "name": "python",
   "pygments_lexer": "ipython3"
  }
 },
 "nbformat": 4,
 "nbformat_minor": 5
}