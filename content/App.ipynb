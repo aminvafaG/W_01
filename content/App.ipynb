{
 "cells": [
  {
   "cell_type": "markdown",
   "metadata": {},
   "source": [
    "# Orientation Tuning — Overlay of Filtered Units\nThis view overlays **all filtered units**. Sliders are debounced for speed in the browser.\n"
   ]
  },
  {
   "cell_type": "code",
   "execution_count": null,
   "metadata": {
    "tags": [
     "remove-input"
    ]
   },
   "outputs": [],
   "source": "import numpy as np, pandas as pd\nimport ipywidgets as W\nimport matplotlib.pyplot as plt\nfrom IPython.display import display, clear_output\n\n# ---------- Load data (content/data/...) ----------\nmeta   = pd.read_csv(\"data/meta.csv\")                 # columns: unit_id, layer, OSI, selectivity\nnpz    = np.load(\"data/tuning_curves.npz\")            # arrays: angles (A,), curves (N,A)\nangles = npz[\"angles\"]\ncurves = npz[\"curves\"]\n\nN, A = curves.shape\nlayer_opts = tuple(sorted(meta[\"layer\"].unique().tolist()))\n\n# ---------- Pre-compute normalizations for speed ----------\ncurves_raw  = curves.copy()\nmu  = curves.mean(axis=1, keepdims=True)\nstd = curves.std(axis=1, keepdims=True) + 1e-12\ncurves_z    = (curves - mu) / std\npeak = np.maximum(1e-12, np.max(np.abs(curves), axis=1, keepdims=True))\ncurves_peak = curves / peak\n\nnorm_map = {\"raw\": curves_raw, \"z\": curves_z, \"peak\": curves_peak}\n\n# ---------- Controls (debounced) ----------\nlayers = W.SelectMultiple(options=layer_opts, value=layer_opts, description=\"Layers\", rows=3, layout=W.Layout(width=\"220px\"))\nosi    = W.FloatRangeSlider(value=(0.0, 1.0), min=0.0, max=1.0, step=0.01, description=\"OSI\",\n                            readout_format=\".2f\", layout=W.Layout(width=\"380px\"), continuous_update=False)\nsel    = W.FloatRangeSlider(value=(0.0, 1.0), min=0.0, max=1.0, step=0.01, description=\"Select.\",\n                            readout_format=\".2f\", layout=W.Layout(width=\"380px\"), continuous_update=False)\nnorm   = W.Dropdown(options=[(\"Raw\",\"raw\"), (\"Z-score per unit\",\"z\"), (\"Peak normalize (max=1)\",\"peak\")],\n                    value=\"raw\", description=\"Normalize\")\nfocus  = W.Dropdown(options=[(f\"Unit {u}\", int(u)) for u in meta[\"unit_id\"].tolist()],\n                    value=int(meta[\"unit_id\"].iloc[0]), description=\"Focus unit\")\nstatus = W.HTML()\nplot_out = W.Output(layout=W.Layout(border=\"1px solid #e5e5e5\", min_height=\"420px\", width=\"100%\"))\n\ndef filtered_idx():\n    sel_layers = list(layers.value)\n    if len(sel_layers) == 0:\n        return np.array([], dtype=int)\n    m = (\n        meta[\"layer\"].isin(sel_layers)\n        & (meta[\"OSI\"] >= osi.value[0]) & (meta[\"OSI\"] <= osi.value[1])\n        & (meta[\"selectivity\"] >= sel.value[0]) & (meta[\"selectivity\"] <= sel.value[1])\n    )\n    return np.flatnonzero(m.values)\n\ndef update_plot(*_):\n    idx = filtered_idx()\n    status.value = (f\"<b>Matched units:</b> {idx.size} | Layers: {', '.join(layers.value)} | \"\n                    f\"OSI: {osi.value[0]:.2f}–{osi.value[1]:.2f} | Select.: {sel.value[0]:.2f}–{sel.value[1]:.2f}\")\n    Ybank = norm_map[norm.value]\n\n    with plot_out:\n        clear_output(wait=True)\n        fig = plt.figure(figsize=(7.5, 4.2), dpi=140)\n        ax  = plt.gca()\n        if idx.size == 0:\n            ax.text(0.5, 0.5, \"No units match the filter\", ha=\"center\", va=\"center\", transform=ax.transAxes)\n            ax.set_axis_off()\n            plt.show()\n            return\n\n        # --- Overlay all filtered units ---\n        # Use one vectorized draw call when possible\n        for ii in idx:\n            ax.plot(angles, Ybank[ii], lw=1.0, alpha=0.30)\n\n        # --- Focus unit (always draw on top if present) ---\n        if focus.value in meta[\"unit_id\"].values:\n            row = int(meta.index[meta[\"unit_id\"] == focus.value][0])\n            ax.plot(angles, Ybank[row], lw=2.6)\n\n        ax.set_xlabel(\"Orientation (deg)\")\n        ax.set_ylabel(\"Response (a.u.)\" if norm.value == \"raw\" else f\"Response ({norm.value})\")\n        ax.set_title(\"Orientation tuning (overlay of filtered units)\")\n        ax.grid(True, alpha=0.25)\n        plt.tight_layout()\n        plt.show()\n\n# Wire callbacks (debounced sliders only fire on release)\nfor w in (layers, osi, sel, norm, focus):\n    w.observe(update_plot, names=\"value\")\n\n# Initial render\nupdate_plot()\n\ncontrols = W.HBox([W.VBox([layers, norm]), W.VBox([osi, sel, focus])])\ndisplay(controls, status, plot_out)\n"
  }
 ],
 "metadata": {
  "kernelspec": {
   "display_name": "Python",
   "language": "python",
   "name": "python"
  },
  "language_info": {
   "name": "python",
   "pygments_lexer": "ipython3"
  }
 },
 "nbformat": 4,
 "nbformat_minor": 5
}